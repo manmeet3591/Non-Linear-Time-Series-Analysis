{
 "cells": [
  {
   "cell_type": "code",
   "execution_count": 1,
   "metadata": {},
   "outputs": [],
   "source": [
    "import os\n",
    "import pandas as pd\n",
    "import numpy as np\n",
    "from statsmodels.tsa import stattools\n",
    "%matplotlib inline\n",
    "from matplotlib import pyplot as plt\n",
    "from pandas.plotting import autocorrelation_plot"
   ]
  },
  {
   "cell_type": "code",
   "execution_count": 2,
   "metadata": {},
   "outputs": [],
   "source": [
    "#we always start by setting the current directory and then working relative to it\n",
    "#os.chdir('D:/Practical Time Series')"
   ]
  },
  {
   "cell_type": "code",
   "execution_count": 3,
   "metadata": {},
   "outputs": [],
   "source": [
    "djia_df = pd.read_excel('../datasets/DJIA_Jan2016_Dec2016.xlsx')"
   ]
  },
  {
   "cell_type": "code",
   "execution_count": 4,
   "metadata": {},
   "outputs": [
    {
     "data": {
      "text/html": [
       "<div>\n",
       "<style scoped>\n",
       "    .dataframe tbody tr th:only-of-type {\n",
       "        vertical-align: middle;\n",
       "    }\n",
       "\n",
       "    .dataframe tbody tr th {\n",
       "        vertical-align: top;\n",
       "    }\n",
       "\n",
       "    .dataframe thead th {\n",
       "        text-align: right;\n",
       "    }\n",
       "</style>\n",
       "<table border=\"1\" class=\"dataframe\">\n",
       "  <thead>\n",
       "    <tr style=\"text-align: right;\">\n",
       "      <th></th>\n",
       "      <th>Date</th>\n",
       "      <th>Open</th>\n",
       "      <th>High</th>\n",
       "      <th>Low</th>\n",
       "      <th>Close</th>\n",
       "      <th>Adj Close</th>\n",
       "      <th>Volume</th>\n",
       "    </tr>\n",
       "  </thead>\n",
       "  <tbody>\n",
       "    <tr>\n",
       "      <th>0</th>\n",
       "      <td>2016-01-04</td>\n",
       "      <td>17405.480469</td>\n",
       "      <td>17405.480469</td>\n",
       "      <td>16957.630859</td>\n",
       "      <td>17148.939453</td>\n",
       "      <td>17148.939453</td>\n",
       "      <td>148060000</td>\n",
       "    </tr>\n",
       "    <tr>\n",
       "      <th>1</th>\n",
       "      <td>2016-01-05</td>\n",
       "      <td>17147.500000</td>\n",
       "      <td>17195.839844</td>\n",
       "      <td>17038.609375</td>\n",
       "      <td>17158.660156</td>\n",
       "      <td>17158.660156</td>\n",
       "      <td>105750000</td>\n",
       "    </tr>\n",
       "    <tr>\n",
       "      <th>2</th>\n",
       "      <td>2016-01-06</td>\n",
       "      <td>17154.830078</td>\n",
       "      <td>17154.830078</td>\n",
       "      <td>16817.619141</td>\n",
       "      <td>16906.509766</td>\n",
       "      <td>16906.509766</td>\n",
       "      <td>120250000</td>\n",
       "    </tr>\n",
       "    <tr>\n",
       "      <th>3</th>\n",
       "      <td>2016-01-07</td>\n",
       "      <td>16888.359375</td>\n",
       "      <td>16888.359375</td>\n",
       "      <td>16463.630859</td>\n",
       "      <td>16514.099609</td>\n",
       "      <td>16514.099609</td>\n",
       "      <td>176240000</td>\n",
       "    </tr>\n",
       "    <tr>\n",
       "      <th>4</th>\n",
       "      <td>2016-01-08</td>\n",
       "      <td>16519.169922</td>\n",
       "      <td>16651.890625</td>\n",
       "      <td>16314.570313</td>\n",
       "      <td>16346.450195</td>\n",
       "      <td>16346.450195</td>\n",
       "      <td>141850000</td>\n",
       "    </tr>\n",
       "    <tr>\n",
       "      <th>5</th>\n",
       "      <td>2016-01-11</td>\n",
       "      <td>16358.709961</td>\n",
       "      <td>16461.849609</td>\n",
       "      <td>16232.030273</td>\n",
       "      <td>16398.570313</td>\n",
       "      <td>16398.570313</td>\n",
       "      <td>127790000</td>\n",
       "    </tr>\n",
       "    <tr>\n",
       "      <th>6</th>\n",
       "      <td>2016-01-12</td>\n",
       "      <td>16419.109375</td>\n",
       "      <td>16591.349609</td>\n",
       "      <td>16322.070313</td>\n",
       "      <td>16516.220703</td>\n",
       "      <td>16516.220703</td>\n",
       "      <td>117480000</td>\n",
       "    </tr>\n",
       "    <tr>\n",
       "      <th>7</th>\n",
       "      <td>2016-01-13</td>\n",
       "      <td>16526.630859</td>\n",
       "      <td>16593.509766</td>\n",
       "      <td>16123.200195</td>\n",
       "      <td>16151.410156</td>\n",
       "      <td>16151.410156</td>\n",
       "      <td>153530000</td>\n",
       "    </tr>\n",
       "    <tr>\n",
       "      <th>8</th>\n",
       "      <td>2016-01-14</td>\n",
       "      <td>16159.009766</td>\n",
       "      <td>16482.050781</td>\n",
       "      <td>16075.120117</td>\n",
       "      <td>16379.049805</td>\n",
       "      <td>16379.049805</td>\n",
       "      <td>158830000</td>\n",
       "    </tr>\n",
       "    <tr>\n",
       "      <th>9</th>\n",
       "      <td>2016-01-15</td>\n",
       "      <td>16354.330078</td>\n",
       "      <td>16354.330078</td>\n",
       "      <td>15842.110352</td>\n",
       "      <td>15988.080078</td>\n",
       "      <td>15988.080078</td>\n",
       "      <td>239210000</td>\n",
       "    </tr>\n",
       "  </tbody>\n",
       "</table>\n",
       "</div>"
      ],
      "text/plain": [
       "        Date          Open          High           Low         Close  \\\n",
       "0 2016-01-04  17405.480469  17405.480469  16957.630859  17148.939453   \n",
       "1 2016-01-05  17147.500000  17195.839844  17038.609375  17158.660156   \n",
       "2 2016-01-06  17154.830078  17154.830078  16817.619141  16906.509766   \n",
       "3 2016-01-07  16888.359375  16888.359375  16463.630859  16514.099609   \n",
       "4 2016-01-08  16519.169922  16651.890625  16314.570313  16346.450195   \n",
       "5 2016-01-11  16358.709961  16461.849609  16232.030273  16398.570313   \n",
       "6 2016-01-12  16419.109375  16591.349609  16322.070313  16516.220703   \n",
       "7 2016-01-13  16526.630859  16593.509766  16123.200195  16151.410156   \n",
       "8 2016-01-14  16159.009766  16482.050781  16075.120117  16379.049805   \n",
       "9 2016-01-15  16354.330078  16354.330078  15842.110352  15988.080078   \n",
       "\n",
       "      Adj Close     Volume  \n",
       "0  17148.939453  148060000  \n",
       "1  17158.660156  105750000  \n",
       "2  16906.509766  120250000  \n",
       "3  16514.099609  176240000  \n",
       "4  16346.450195  141850000  \n",
       "5  16398.570313  127790000  \n",
       "6  16516.220703  117480000  \n",
       "7  16151.410156  153530000  \n",
       "8  16379.049805  158830000  \n",
       "9  15988.080078  239210000  "
      ]
     },
     "execution_count": 4,
     "metadata": {},
     "output_type": "execute_result"
    }
   ],
   "source": [
    "djia_df.head(10)"
   ]
  },
  {
   "cell_type": "code",
   "execution_count": 5,
   "metadata": {},
   "outputs": [],
   "source": [
    "#Let us parse the Date column and use as row index for the DataFrame and drop it as a column\n",
    "djia_df['Date'] = pd.to_datetime(djia_df['Date'], '%Y-%m-%d')\n",
    "djia_df.index = djia_df['Date']\n",
    "djia_df.drop('Date', axis=1, inplace=True)"
   ]
  },
  {
   "cell_type": "code",
   "execution_count": 6,
   "metadata": {},
   "outputs": [
    {
     "data": {
      "text/html": [
       "<div>\n",
       "<style scoped>\n",
       "    .dataframe tbody tr th:only-of-type {\n",
       "        vertical-align: middle;\n",
       "    }\n",
       "\n",
       "    .dataframe tbody tr th {\n",
       "        vertical-align: top;\n",
       "    }\n",
       "\n",
       "    .dataframe thead th {\n",
       "        text-align: right;\n",
       "    }\n",
       "</style>\n",
       "<table border=\"1\" class=\"dataframe\">\n",
       "  <thead>\n",
       "    <tr style=\"text-align: right;\">\n",
       "      <th></th>\n",
       "      <th>Open</th>\n",
       "      <th>High</th>\n",
       "      <th>Low</th>\n",
       "      <th>Close</th>\n",
       "      <th>Adj Close</th>\n",
       "      <th>Volume</th>\n",
       "    </tr>\n",
       "    <tr>\n",
       "      <th>Date</th>\n",
       "      <th></th>\n",
       "      <th></th>\n",
       "      <th></th>\n",
       "      <th></th>\n",
       "      <th></th>\n",
       "      <th></th>\n",
       "    </tr>\n",
       "  </thead>\n",
       "  <tbody>\n",
       "    <tr>\n",
       "      <th>2016-01-04</th>\n",
       "      <td>17405.480469</td>\n",
       "      <td>17405.480469</td>\n",
       "      <td>16957.630859</td>\n",
       "      <td>17148.939453</td>\n",
       "      <td>17148.939453</td>\n",
       "      <td>148060000</td>\n",
       "    </tr>\n",
       "    <tr>\n",
       "      <th>2016-01-05</th>\n",
       "      <td>17147.500000</td>\n",
       "      <td>17195.839844</td>\n",
       "      <td>17038.609375</td>\n",
       "      <td>17158.660156</td>\n",
       "      <td>17158.660156</td>\n",
       "      <td>105750000</td>\n",
       "    </tr>\n",
       "    <tr>\n",
       "      <th>2016-01-06</th>\n",
       "      <td>17154.830078</td>\n",
       "      <td>17154.830078</td>\n",
       "      <td>16817.619141</td>\n",
       "      <td>16906.509766</td>\n",
       "      <td>16906.509766</td>\n",
       "      <td>120250000</td>\n",
       "    </tr>\n",
       "    <tr>\n",
       "      <th>2016-01-07</th>\n",
       "      <td>16888.359375</td>\n",
       "      <td>16888.359375</td>\n",
       "      <td>16463.630859</td>\n",
       "      <td>16514.099609</td>\n",
       "      <td>16514.099609</td>\n",
       "      <td>176240000</td>\n",
       "    </tr>\n",
       "    <tr>\n",
       "      <th>2016-01-08</th>\n",
       "      <td>16519.169922</td>\n",
       "      <td>16651.890625</td>\n",
       "      <td>16314.570313</td>\n",
       "      <td>16346.450195</td>\n",
       "      <td>16346.450195</td>\n",
       "      <td>141850000</td>\n",
       "    </tr>\n",
       "    <tr>\n",
       "      <th>2016-01-11</th>\n",
       "      <td>16358.709961</td>\n",
       "      <td>16461.849609</td>\n",
       "      <td>16232.030273</td>\n",
       "      <td>16398.570313</td>\n",
       "      <td>16398.570313</td>\n",
       "      <td>127790000</td>\n",
       "    </tr>\n",
       "    <tr>\n",
       "      <th>2016-01-12</th>\n",
       "      <td>16419.109375</td>\n",
       "      <td>16591.349609</td>\n",
       "      <td>16322.070313</td>\n",
       "      <td>16516.220703</td>\n",
       "      <td>16516.220703</td>\n",
       "      <td>117480000</td>\n",
       "    </tr>\n",
       "    <tr>\n",
       "      <th>2016-01-13</th>\n",
       "      <td>16526.630859</td>\n",
       "      <td>16593.509766</td>\n",
       "      <td>16123.200195</td>\n",
       "      <td>16151.410156</td>\n",
       "      <td>16151.410156</td>\n",
       "      <td>153530000</td>\n",
       "    </tr>\n",
       "    <tr>\n",
       "      <th>2016-01-14</th>\n",
       "      <td>16159.009766</td>\n",
       "      <td>16482.050781</td>\n",
       "      <td>16075.120117</td>\n",
       "      <td>16379.049805</td>\n",
       "      <td>16379.049805</td>\n",
       "      <td>158830000</td>\n",
       "    </tr>\n",
       "    <tr>\n",
       "      <th>2016-01-15</th>\n",
       "      <td>16354.330078</td>\n",
       "      <td>16354.330078</td>\n",
       "      <td>15842.110352</td>\n",
       "      <td>15988.080078</td>\n",
       "      <td>15988.080078</td>\n",
       "      <td>239210000</td>\n",
       "    </tr>\n",
       "  </tbody>\n",
       "</table>\n",
       "</div>"
      ],
      "text/plain": [
       "                    Open          High           Low         Close  \\\n",
       "Date                                                                 \n",
       "2016-01-04  17405.480469  17405.480469  16957.630859  17148.939453   \n",
       "2016-01-05  17147.500000  17195.839844  17038.609375  17158.660156   \n",
       "2016-01-06  17154.830078  17154.830078  16817.619141  16906.509766   \n",
       "2016-01-07  16888.359375  16888.359375  16463.630859  16514.099609   \n",
       "2016-01-08  16519.169922  16651.890625  16314.570313  16346.450195   \n",
       "2016-01-11  16358.709961  16461.849609  16232.030273  16398.570313   \n",
       "2016-01-12  16419.109375  16591.349609  16322.070313  16516.220703   \n",
       "2016-01-13  16526.630859  16593.509766  16123.200195  16151.410156   \n",
       "2016-01-14  16159.009766  16482.050781  16075.120117  16379.049805   \n",
       "2016-01-15  16354.330078  16354.330078  15842.110352  15988.080078   \n",
       "\n",
       "               Adj Close     Volume  \n",
       "Date                                 \n",
       "2016-01-04  17148.939453  148060000  \n",
       "2016-01-05  17158.660156  105750000  \n",
       "2016-01-06  16906.509766  120250000  \n",
       "2016-01-07  16514.099609  176240000  \n",
       "2016-01-08  16346.450195  141850000  \n",
       "2016-01-11  16398.570313  127790000  \n",
       "2016-01-12  16516.220703  117480000  \n",
       "2016-01-13  16151.410156  153530000  \n",
       "2016-01-14  16379.049805  158830000  \n",
       "2016-01-15  15988.080078  239210000  "
      ]
     },
     "execution_count": 6,
     "metadata": {},
     "output_type": "execute_result"
    }
   ],
   "source": [
    "#Let us see first few rows of the modified DataFrame\n",
    "djia_df.head(10)"
   ]
  },
  {
   "cell_type": "code",
   "execution_count": 7,
   "metadata": {},
   "outputs": [],
   "source": [
    "#We would be using the 'Close' values of the DJIA to illustrate Differencing\n",
    "first_order_diff = djia_df['Close'].diff(1)"
   ]
  },
  {
   "cell_type": "code",
   "execution_count": 8,
   "metadata": {},
   "outputs": [
    {
     "data": {
      "text/plain": [
       "Text(0.5, 1.0, 'First-order differences of DJIA during Jan 2016-Dec 2016')"
      ]
     },
     "execution_count": 8,
     "metadata": {},
     "output_type": "execute_result"
    },
    {
     "data": {
      "image/png": "[encoded data removed]",
      "text/plain": [
       "<Figure size 396x396 with 2 Axes>"
      ]
     },
     "metadata": {
      "needs_background": "light"
     },
     "output_type": "display_data"
    }
   ],
   "source": [
    "#Let us plot the original time series and first-differences\n",
    "fig, ax = plt.subplots(2, sharex=True)\n",
    "fig.set_size_inches(5.5, 5.5)\n",
    "djia_df['Close'].plot(ax=ax[0], color='b')\n",
    "ax[0].set_title('Close values of DJIA during Jan 2016-Dec 2016')\n",
    "first_order_diff.plot(ax=ax[1], color='r')\n",
    "ax[1].set_title('First-order differences of DJIA during Jan 2016-Dec 2016')\n",
    "#plt.savefig('plots/ch2/B07887_02_06.png', format='png', dpi=300)"
   ]
  },
  {
   "cell_type": "code",
   "execution_count": 9,
   "metadata": {},
   "outputs": [
    {
     "data": {
      "image/png": "[encoded data removed]",
      "text/plain": [
       "<Figure size 396x396 with 2 Axes>"
      ]
     },
     "metadata": {
      "needs_background": "light"
     },
     "output_type": "display_data"
    }
   ],
   "source": [
    "#Let us plot the ACFs of original time series and first-differences\n",
    "fig, ax = plt.subplots(2, sharex=True)\n",
    "fig.set_size_inches(5.5, 5.5)\n",
    "autocorrelation_plot(djia_df['Close'], color='b', ax=ax[0])\n",
    "ax[0].set_title('ACF of DJIA Close values')\n",
    "autocorrelation_plot(first_order_diff.iloc[1:], color='r', ax=ax[1])\n",
    "ax[1].set_title('ACF of first differences of DJIA Close values')\n",
    "plt.tight_layout(pad=0.4, w_pad=0.5, h_pad=2.0)\n",
    "#plt.savefig('plots/ch2/B07887_02_07.png', format='png', dpi=300)"
   ]
  },
  {
   "cell_type": "code",
   "execution_count": 10,
   "metadata": {
    "scrolled": true
   },
   "outputs": [
    {
     "data": {
      "text/plain": [
       "'\\nNow we will perform the Ljung-Box test on the ACFs\\nof the original time series and the first-differences.\\nFor running the test we will limit upto 20 lags\\n'"
      ]
     },
     "execution_count": 10,
     "metadata": {},
     "output_type": "execute_result"
    }
   ],
   "source": [
    "\"\"\"\n",
    "Now we will perform the Ljung-Box test on the ACFs\n",
    "of the original time series and the first-differences.\n",
    "For running the test we will limit upto 20 lags\n",
    "\"\"\"\n",
    "# https://en.wikipedia.org/wiki/Ljung%E2%80%93Box_test\n",
    "# "
   ]
  },
  {
   "cell_type": "code",
   "execution_count": 11,
   "metadata": {},
   "outputs": [],
   "source": [
    "\"\"\"\n",
    "Let us obtain the confidence intervls, Ljung-Box Q-statistics and p-values\n",
    "for the original DJIA Close values\n",
    "\"\"\"\n",
    "acf_djia, confint_djia, qstat_djia, pvalues_djia = stattools.acf(djia_df['Close'],\n",
    "                                                                 unbiased=True,\n",
    "                                                                 nlags=20,\n",
    "                                                                 qstat=True,\n",
    "                                                                 alpha=0.05)"
   ]
  },
  {
   "cell_type": "code",
   "execution_count": 12,
   "metadata": {},
   "outputs": [
    {
     "name": "stdout",
     "output_type": "stream",
     "text": [
      "Null hypothesis is rejected at lag = 0 for p-val = 1.0693767753677146e-55\n",
      "Null hypothesis is rejected at lag = 1 for p-val = 9.994326469628715e-107\n",
      "Null hypothesis is rejected at lag = 2 for p-val = 3.514318635466978e-156\n",
      "Null hypothesis is rejected at lag = 3 for p-val = 8.306783142365376e-204\n",
      "Null hypothesis is rejected at lag = 4 for p-val = 1.3385232646531283e-249\n",
      "Null hypothesis is rejected at lag = 5 for p-val = 1.1920943365344843e-293\n",
      "Null hypothesis is rejected at lag = 6 for p-val = 0.0\n",
      "Null hypothesis is rejected at lag = 7 for p-val = 0.0\n",
      "Null hypothesis is rejected at lag = 8 for p-val = 0.0\n",
      "Null hypothesis is rejected at lag = 9 for p-val = 0.0\n",
      "Null hypothesis is rejected at lag = 10 for p-val = 0.0\n",
      "Null hypothesis is rejected at lag = 11 for p-val = 0.0\n",
      "Null hypothesis is rejected at lag = 12 for p-val = 0.0\n",
      "Null hypothesis is rejected at lag = 13 for p-val = 0.0\n",
      "Null hypothesis is rejected at lag = 14 for p-val = 0.0\n",
      "Null hypothesis is rejected at lag = 15 for p-val = 0.0\n",
      "Null hypothesis is rejected at lag = 16 for p-val = 0.0\n",
      "Null hypothesis is rejected at lag = 17 for p-val = 0.0\n",
      "Null hypothesis is rejected at lag = 18 for p-val = 0.0\n",
      "Null hypothesis is rejected at lag = 19 for p-val = 0.0\n"
     ]
    }
   ],
   "source": [
    "\"\"\"Let us check if at confidence level 95% (alpha=0.05)\n",
    "if the null hypothesis is rejected at any of the lags\n",
    "\"\"\"\n",
    "alpha = 0.05\n",
    "for l, p_val in enumerate(pvalues_djia):\n",
    "    if p_val > alpha:\n",
    "        print('Null hypothesis is accepted at lag = {} for p-val = {}'.format(l, p_val))\n",
    "    else:\n",
    "        print('Null hypothesis is rejected at lag = {} for p-val = {}'.format(l, p_val))"
   ]
  },
  {
   "cell_type": "code",
   "execution_count": 13,
   "metadata": {},
   "outputs": [
    {
     "data": {
      "text/plain": [
       "'\\nThe above results show statistically significant ACF in the original DJIA Close values\\n'"
      ]
     },
     "execution_count": 13,
     "metadata": {},
     "output_type": "execute_result"
    }
   ],
   "source": [
    "\"\"\"\n",
    "The above results show statistically significant ACF in the original DJIA Close values\n",
    "\"\"\""
   ]
  },
  {
   "cell_type": "code",
   "execution_count": 14,
   "metadata": {},
   "outputs": [],
   "source": [
    "\"\"\"\n",
    "Let us obtain the confidence intervls, Ljung-Box Q-statistics and p-values\n",
    "for the differenced DJIA Close values\n",
    "\"\"\"\n",
    "acf_first_diff, confint_first_diff,\\\n",
    "qstat_first_diff, pvalues_first_diff = stattools.acf(first_order_diff.iloc[1:],\n",
    "                                                     unbiased=True,\n",
    "                                                     nlags=20,\n",
    "                                                     qstat=True,\n",
    "                                                     alpha=0.05)"
   ]
  },
  {
   "cell_type": "code",
   "execution_count": 15,
   "metadata": {},
   "outputs": [
    {
     "name": "stdout",
     "output_type": "stream",
     "text": [
      "Null hypothesis is accepted at lag = 0 for p-val = 0.17569800898040236\n",
      "Null hypothesis is accepted at lag = 1 for p-val = 0.35383008530092375\n",
      "Null hypothesis is accepted at lag = 2 for p-val = 0.5531395640331853\n",
      "Null hypothesis is accepted at lag = 3 for p-val = 0.6985127807558777\n",
      "Null hypothesis is accepted at lag = 4 for p-val = 0.7891580120671385\n",
      "Null hypothesis is accepted at lag = 5 for p-val = 0.8772903282781713\n",
      "Null hypothesis is accepted at lag = 6 for p-val = 0.9012774835832821\n",
      "Null hypothesis is accepted at lag = 7 for p-val = 0.9429823162379646\n",
      "Null hypothesis is accepted at lag = 8 for p-val = 0.9485916556521747\n",
      "Null hypothesis is accepted at lag = 9 for p-val = 0.9377977943700337\n",
      "Null hypothesis is accepted at lag = 10 for p-val = 0.8937612607433125\n",
      "Null hypothesis is accepted at lag = 11 for p-val = 0.9152190930215199\n",
      "Null hypothesis is accepted at lag = 12 for p-val = 0.926324524389294\n",
      "Null hypothesis is accepted at lag = 13 for p-val = 0.935072555400118\n",
      "Null hypothesis is accepted at lag = 14 for p-val = 0.9404394685405837\n",
      "Null hypothesis is accepted at lag = 15 for p-val = 0.9595778559852979\n",
      "Null hypothesis is accepted at lag = 16 for p-val = 0.9443273303145854\n",
      "Null hypothesis is accepted at lag = 17 for p-val = 0.8167727042338274\n",
      "Null hypothesis is accepted at lag = 18 for p-val = 0.7007425456308608\n",
      "Null hypothesis is accepted at lag = 19 for p-val = 0.5714550690697016\n"
     ]
    }
   ],
   "source": [
    "\"\"\"Let us check if at confidence level of 95% (alpha = 0.05)\n",
    "if the null hypothesis is rejected at any of the lags\n",
    "\"\"\"\n",
    "alpha = 0.05\n",
    "for l, p_val in enumerate(pvalues_first_diff):\n",
    "    if p_val > alpha:\n",
    "        print('Null hypothesis is accepted at lag = {} for p-val = {}'.format(l, p_val))\n",
    "    else:\n",
    "        print('Null hypothesis is rejected at lag = {} for p-val = {}'.format(l, p_val))"
   ]
  },
  {
   "cell_type": "code",
   "execution_count": 16,
   "metadata": {},
   "outputs": [
    {
     "data": {
      "text/plain": [
       "'\\nThe above results show that ACF is essentially random in the differenced DJIA Close values\\n'"
      ]
     },
     "execution_count": 16,
     "metadata": {},
     "output_type": "execute_result"
    }
   ],
   "source": [
    "\"\"\"\n",
    "The above results show that ACF is essentially random in the differenced DJIA Close values\n",
    "\"\"\""
   ]
  },
  {
   "cell_type": "code",
   "execution_count": null,
   "metadata": {},
   "outputs": [],
   "source": []
  }
 ],
 "metadata": {
  "anaconda-cloud": {},
  "kernelspec": {
   "display_name": "Python 3",
   "language": "python",
   "name": "python3"
  },
  "language_info": {
   "codemirror_mode": {
    "name": "ipython",
    "version": 3
   },
   "file_extension": ".py",
   "mimetype": "text/x-python",
   "name": "python",
   "nbconvert_exporter": "python",
   "pygments_lexer": "ipython3",
   "version": "3.5.5"
  }
 },
 "nbformat": 4,
 "nbformat_minor": 1
}
