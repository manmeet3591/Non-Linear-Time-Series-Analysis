{
 "cells": [
  {
   "cell_type": "code",
   "execution_count": 1,
   "metadata": {},
   "outputs": [],
   "source": [
    "from __future__ import print_function\n",
    "import os\n",
    "import pandas as pd\n",
    "import numpy as np\n",
    "from statsmodels.tsa import stattools\n",
    "%matplotlib inline\n",
    "from matplotlib import pyplot as plt"
   ]
  },
  {
   "cell_type": "code",
   "execution_count": 2,
   "metadata": {},
   "outputs": [],
   "source": [
    "#Start by setting the current directory and henceforth working relative to it\n",
    "#os.chdir('D:/Practical Time Series')"
   ]
  },
  {
   "cell_type": "code",
   "execution_count": 3,
   "metadata": {},
   "outputs": [
    {
     "data": {
      "text/plain": [
       "'\\nThis notebook illustrates time series decomposition by moving averages.\\nBoth additive and multiplicative models are demonstrated.\\n'"
      ]
     },
     "execution_count": 3,
     "metadata": {},
     "output_type": "execute_result"
    }
   ],
   "source": [
    "\"\"\"\n",
    "This notebook illustrates time series decomposition by moving averages.\n",
    "Both additive and multiplicative models are demonstrated.\n",
    "\"\"\""
   ]
  },
  {
   "cell_type": "code",
   "execution_count": 4,
   "metadata": {},
   "outputs": [
    {
     "data": {
      "text/plain": [
       "'\\nLet us demonstrate the addtive model using US Airlines monthly miles flown dataset.\\n'"
      ]
     },
     "execution_count": 4,
     "metadata": {},
     "output_type": "execute_result"
    }
   ],
   "source": [
    "\"\"\"\n",
    "Let us demonstrate the addtive model using US Airlines monthly miles flown dataset.\n",
    "\"\"\""
   ]
  },
  {
   "cell_type": "code",
   "execution_count": 5,
   "metadata": {},
   "outputs": [],
   "source": [
    "#read the data from into a pandas.DataFrame\n",
    "air_miles = pd.read_csv('../datasets/us-airlines-monthly-aircraft-miles-flown.csv')\n",
    "air_miles.index = air_miles['Month']"
   ]
  },
  {
   "cell_type": "code",
   "execution_count": 6,
   "metadata": {},
   "outputs": [
    {
     "name": "stdout",
     "output_type": "stream",
     "text": [
      "Shape of the DataFrame: (97, 2)\n"
     ]
    }
   ],
   "source": [
    "#Let's find out the shape of the DataFrame\n",
    "print('Shape of the DataFrame:', air_miles.shape)"
   ]
  },
  {
   "cell_type": "code",
   "execution_count": 7,
   "metadata": {},
   "outputs": [
    {
     "data": {
      "text/html": [
       "<div>\n",
       "<style scoped>\n",
       "    .dataframe tbody tr th:only-of-type {\n",
       "        vertical-align: middle;\n",
       "    }\n",
       "\n",
       "    .dataframe tbody tr th {\n",
       "        vertical-align: top;\n",
       "    }\n",
       "\n",
       "    .dataframe thead th {\n",
       "        text-align: right;\n",
       "    }\n",
       "</style>\n",
       "<table border=\"1\" class=\"dataframe\">\n",
       "  <thead>\n",
       "    <tr style=\"text-align: right;\">\n",
       "      <th></th>\n",
       "      <th>Month</th>\n",
       "      <th>U.S. airlines: monthly aircraft miles flown (Millions) 1963 -1970</th>\n",
       "    </tr>\n",
       "    <tr>\n",
       "      <th>Month</th>\n",
       "      <th></th>\n",
       "      <th></th>\n",
       "    </tr>\n",
       "  </thead>\n",
       "  <tbody>\n",
       "    <tr>\n",
       "      <th>1963-01</th>\n",
       "      <td>1963-01</td>\n",
       "      <td>6827.0</td>\n",
       "    </tr>\n",
       "    <tr>\n",
       "      <th>1963-02</th>\n",
       "      <td>1963-02</td>\n",
       "      <td>6178.0</td>\n",
       "    </tr>\n",
       "    <tr>\n",
       "      <th>1963-03</th>\n",
       "      <td>1963-03</td>\n",
       "      <td>7084.0</td>\n",
       "    </tr>\n",
       "    <tr>\n",
       "      <th>1963-04</th>\n",
       "      <td>1963-04</td>\n",
       "      <td>8162.0</td>\n",
       "    </tr>\n",
       "    <tr>\n",
       "      <th>1963-05</th>\n",
       "      <td>1963-05</td>\n",
       "      <td>8462.0</td>\n",
       "    </tr>\n",
       "    <tr>\n",
       "      <th>1963-06</th>\n",
       "      <td>1963-06</td>\n",
       "      <td>9644.0</td>\n",
       "    </tr>\n",
       "    <tr>\n",
       "      <th>1963-07</th>\n",
       "      <td>1963-07</td>\n",
       "      <td>10466.0</td>\n",
       "    </tr>\n",
       "    <tr>\n",
       "      <th>1963-08</th>\n",
       "      <td>1963-08</td>\n",
       "      <td>10748.0</td>\n",
       "    </tr>\n",
       "    <tr>\n",
       "      <th>1963-09</th>\n",
       "      <td>1963-09</td>\n",
       "      <td>9963.0</td>\n",
       "    </tr>\n",
       "    <tr>\n",
       "      <th>1963-10</th>\n",
       "      <td>1963-10</td>\n",
       "      <td>8194.0</td>\n",
       "    </tr>\n",
       "  </tbody>\n",
       "</table>\n",
       "</div>"
      ],
      "text/plain": [
       "           Month  \\\n",
       "Month              \n",
       "1963-01  1963-01   \n",
       "1963-02  1963-02   \n",
       "1963-03  1963-03   \n",
       "1963-04  1963-04   \n",
       "1963-05  1963-05   \n",
       "1963-06  1963-06   \n",
       "1963-07  1963-07   \n",
       "1963-08  1963-08   \n",
       "1963-09  1963-09   \n",
       "1963-10  1963-10   \n",
       "\n",
       "         U.S. airlines: monthly aircraft miles flown (Millions) 1963 -1970  \n",
       "Month                                                                       \n",
       "1963-01                                             6827.0                  \n",
       "1963-02                                             6178.0                  \n",
       "1963-03                                             7084.0                  \n",
       "1963-04                                             8162.0                  \n",
       "1963-05                                             8462.0                  \n",
       "1963-06                                             9644.0                  \n",
       "1963-07                                            10466.0                  \n",
       "1963-08                                            10748.0                  \n",
       "1963-09                                             9963.0                  \n",
       "1963-10                                             8194.0                  "
      ]
     },
     "execution_count": 7,
     "metadata": {},
     "output_type": "execute_result"
    }
   ],
   "source": [
    "#Let's see first 10 rows of it\n",
    "air_miles.head(10)"
   ]
  },
  {
   "cell_type": "code",
   "execution_count": 8,
   "metadata": {},
   "outputs": [],
   "source": [
    "#Let's rename the 2nd column\n",
    "air_miles.rename(columns={'U.S. airlines: monthly aircraft miles flown (Millions) 1963 -1970':\\\n",
    "                          'Air miles flown'\n",
    "                         },\n",
    "                inplace=True\n",
    "                )"
   ]
  },
  {
   "cell_type": "code",
   "execution_count": 9,
   "metadata": {},
   "outputs": [
    {
     "name": "stdout",
     "output_type": "stream",
     "text": [
      "Number of missing values found: 1\n"
     ]
    }
   ],
   "source": [
    "#Check for missing values and remove the row\n",
    "missing = pd.isnull(air_miles['Air miles flown'])\n",
    "print('Number of missing values found:', missing.sum())\n",
    "air_miles = air_miles.loc[~missing, :]"
   ]
  },
  {
   "cell_type": "code",
   "execution_count": 10,
   "metadata": {},
   "outputs": [],
   "source": [
    "#Let us estimate the trend component by 2X12 monthly moving average\n",
    "MA12 = air_miles['Air miles flown'].rolling(window=12).mean()\n",
    "trendComp = MA12.rolling(window=2).mean()"
   ]
  },
  {
   "cell_type": "code",
   "execution_count": 11,
   "metadata": {},
   "outputs": [
    {
     "name": "stderr",
     "output_type": "stream",
     "text": [
      "/home/manmeet/anaconda3/envs/py35/lib/python3.5/site-packages/ipykernel_launcher.py:10: FutureWarning: Method .as_matrix will be removed in a future version. Use .values instead.\n",
      "  # Remove the CWD from sys.path while we load stuff.\n"
     ]
    }
   ],
   "source": [
    "#Let us now compute the residuals after removing the trend component\n",
    "residuals = air_miles['Air miles flown'] - trendComp\n",
    "\n",
    "#To find the sesonal compute we have to take monthwise average of these residuals\n",
    "month = air_miles['Month'].map(lambda d: d[-2:])\n",
    "monthwise_avg = residuals.groupby(by=month).aggregate(['mean'])\n",
    "#Number of years for which we have the data\n",
    "nb_years = 1970-1963+1\n",
    "\n",
    "seasonalComp = np.array([monthwise_avg.as_matrix()]*nb_years).reshape((12*nb_years,))"
   ]
  },
  {
   "cell_type": "code",
   "execution_count": 12,
   "metadata": {},
   "outputs": [],
   "source": [
    "#After deducting the trend and seasonal component we are left with irregular variations\n",
    "irr_var = air_miles['Air miles flown'] - trendComp - seasonalComp"
   ]
  },
  {
   "cell_type": "code",
   "execution_count": 13,
   "metadata": {
    "scrolled": true
   },
   "outputs": [
    {
     "data": {
      "image/png": "[encoded data removed]",
      "text/plain": [
       "<Figure size 396x396 with 4 Axes>"
      ]
     },
     "metadata": {
      "needs_background": "light"
     },
     "output_type": "display_data"
    }
   ],
   "source": [
    "#Plot the original time series, trend, seasonal and random components\n",
    "fig, axarr = plt.subplots(4, sharex=True)\n",
    "fig.set_size_inches(5.5, 5.5)\n",
    "\n",
    "air_miles['Air miles flown'].plot(ax=axarr[0], color='b', linestyle='-')\n",
    "axarr[0].set_title('Monthly air miles')\n",
    "\n",
    "pd.Series(data=trendComp, index=air_miles.index).plot(ax=axarr[1], color='r', linestyle='-')\n",
    "axarr[1].set_title('Trend component in monthly air miles')\n",
    "\n",
    "pd.Series(data=seasonalComp, index=air_miles.index).plot(ax=axarr[2], color='g', linestyle='-')\n",
    "axarr[2].set_title('Seasonal component in monthly air miles')\n",
    "\n",
    "pd.Series(data=irr_var, index=air_miles.index).plot(ax=axarr[3], color='k', linestyle='-')\n",
    "axarr[3].set_title('Irregular variations in monthly air miles')\n",
    "\n",
    "plt.tight_layout(pad=0.4, w_pad=0.5, h_pad=2.0)\n",
    "\n",
    "#plt.savefig('plots/ch2/B07887_02_20.png', format='png', dpi=300)"
   ]
  },
  {
   "cell_type": "code",
   "execution_count": 14,
   "metadata": {},
   "outputs": [],
   "source": [
    "#Run ADF test on the irregular variations\n",
    "adf_result = stattools.adfuller(irr_var.loc[~pd.isnull(irr_var)], autolag='AIC')"
   ]
  },
  {
   "cell_type": "code",
   "execution_count": 15,
   "metadata": {},
   "outputs": [
    {
     "name": "stdout",
     "output_type": "stream",
     "text": [
      "p-val of the ADF test on irregular variations in air miles flown: 0.06577411025730105\n"
     ]
    }
   ],
   "source": [
    "print('p-val of the ADF test on irregular variations in air miles flown:', adf_result[1])"
   ]
  },
  {
   "cell_type": "code",
   "execution_count": 16,
   "metadata": {},
   "outputs": [
    {
     "data": {
      "text/plain": [
       "'\\nThe additive decompostion has been able to reduce the p-value\\nfrom 0.99 in case of the original time series\\n(as shown in Chapter_2_Augmented_Dickey_Fuller_Test.ipynb)\\nto 0.066 after decomposing.\\n'"
      ]
     },
     "execution_count": 16,
     "metadata": {},
     "output_type": "execute_result"
    }
   ],
   "source": [
    "\"\"\"\n",
    "The additive decompostion has been able to reduce the p-value\n",
    "from 0.99 in case of the original time series\n",
    "(as shown in Chapter_2_Augmented_Dickey_Fuller_Test.ipynb)\n",
    "to 0.066 after decomposing.\n",
    "\"\"\""
   ]
  },
  {
   "cell_type": "code",
   "execution_count": 17,
   "metadata": {},
   "outputs": [
    {
     "data": {
      "text/plain": [
       "'\\nNow we will attempt decomposition of the original time\\nusing a multiplicative model\\n'"
      ]
     },
     "execution_count": 17,
     "metadata": {},
     "output_type": "execute_result"
    }
   ],
   "source": [
    "\"\"\"\n",
    "Now we will attempt decomposition of the original time\n",
    "using a multiplicative model\n",
    "\"\"\""
   ]
  },
  {
   "cell_type": "code",
   "execution_count": 33,
   "metadata": {},
   "outputs": [
    {
     "data": {
      "text/plain": [
       "'\\nComputation of the trend-cycle component remain same. But the seasonal component\\nis estimated as follows\\n'"
      ]
     },
     "execution_count": 33,
     "metadata": {},
     "output_type": "execute_result"
    }
   ],
   "source": [
    "\"\"\"\n",
    "Computation of the trend-cycle component remain same. But the seasonal component\n",
    "is estimated as follows\n",
    "\"\"\""
   ]
  },
  {
   "cell_type": "code",
   "execution_count": 34,
   "metadata": {
    "collapsed": true
   },
   "outputs": [],
   "source": [
    "#We start with the residuals left after removing the trend component\n",
    "residuals = air_miles['Air miles flown'] / trendComp\n",
    "\n",
    "#To find the sesonal compute we have to take monthwise average of these residuals\n",
    "month = air_miles['Month'].map(lambda d: d[-2:])\n",
    "monthwise_avg = residuals.groupby(by=month).aggregate(['mean'])\n",
    "#Number of years for which we have the data\n",
    "nb_years = 1970-1963+1\n",
    "\n",
    "seasonalComp = np.array([monthwise_avg.as_matrix()]*nb_years).reshape((12*nb_years,))"
   ]
  },
  {
   "cell_type": "code",
   "execution_count": 35,
   "metadata": {
    "collapsed": true
   },
   "outputs": [],
   "source": [
    "#After adjusting the trend and seasonal component we are left with irregular variations\n",
    "irr_var = air_miles['Air miles flown'] / (trendComp * seasonalComp)"
   ]
  },
  {
   "cell_type": "code",
   "execution_count": 36,
   "metadata": {},
   "outputs": [
    {
     "data": {
      "image/png": "[encoded data removed]",
      "text/plain": [
       "<matplotlib.figure.Figure at 0x28f3eaa8ba8>"
      ]
     },
     "metadata": {},
     "output_type": "display_data"
    }
   ],
   "source": [
    "#Plot the original time series, trend, seasonal and random components\n",
    "fig, axarr = plt.subplots(4, sharex=True)\n",
    "fig.set_size_inches(5.5, 5.5)\n",
    "\n",
    "air_miles['Air miles flown'].plot(ax=axarr[0], color='b', linestyle='-')\n",
    "axarr[0].set_title('Monthly air miles')\n",
    "\n",
    "pd.Series(data=trendComp, index=air_miles.index).plot(ax=axarr[1], color='r', linestyle='-')\n",
    "axarr[1].set_title('Trend component in monthly air miles')\n",
    "\n",
    "pd.Series(data=seasonalComp, index=air_miles.index).plot(ax=axarr[2], color='g', linestyle='-')\n",
    "axarr[2].set_title('Seasonal component in monthly air miles')\n",
    "\n",
    "pd.Series(data=irr_var, index=air_miles.index).plot(ax=axarr[3], color='k', linestyle='-')\n",
    "axarr[3].set_title('Irregular variations in monthly air miles')\n",
    "\n",
    "plt.tight_layout(pad=0.4, w_pad=0.5, h_pad=2.0)\n",
    "\n",
    "plt.savefig('plots/ch2/B07887_02_21.png', format='png', dpi=300)"
   ]
  },
  {
   "cell_type": "code",
   "execution_count": 38,
   "metadata": {},
   "outputs": [],
   "source": [
    "#Run ADF test on the irregular variations\n",
    "adf_result = stattools.adfuller(irr_var.loc[~pd.isnull(irr_var)], autolag='AIC')"
   ]
  },
  {
   "cell_type": "code",
   "execution_count": 39,
   "metadata": {},
   "outputs": [
    {
     "name": "stdout",
     "output_type": "stream",
     "text": [
      "p-val of the ADF test on irregular variations in air miles flown: 0.000176452809084\n"
     ]
    }
   ],
   "source": [
    "print('p-val of the ADF test on irregular variations in air miles flown:', adf_result[1])"
   ]
  },
  {
   "cell_type": "code",
   "execution_count": 40,
   "metadata": {},
   "outputs": [
    {
     "data": {
      "text/plain": [
       "'\\nVoila! The p-val has further reduced to 0.000176.\\nThe null hypothesis about non-stationarity of the irregular variations\\ncan be rejected at even a level of confidence of 99 % (alpha=0.01).\\nThis shows that the original time series has been de-stationarized to\\nthe stationary irregular variations. Besides we have estimates of both trend-cycle\\nand seasonal components.\\n'"
      ]
     },
     "execution_count": 40,
     "metadata": {},
     "output_type": "execute_result"
    }
   ],
   "source": [
    "\"\"\"\n",
    "Voila! The p-val has further reduced to 0.000176.\n",
    "The null hypothesis about non-stationarity of the irregular variations\n",
    "can be rejected at even a level of confidence of 99 % (alpha=0.01).\n",
    "This shows that the original time series has been de-stationarized to\n",
    "the stationary irregular variations. Besides we have estimates of both trend-cycle\n",
    "and seasonal components.\n",
    "\"\"\""
   ]
  }
 ],
 "metadata": {
  "anaconda-cloud": {},
  "kernelspec": {
   "display_name": "Python 3",
   "language": "python",
   "name": "python3"
  },
  "language_info": {
   "codemirror_mode": {
    "name": "ipython",
    "version": 3
   },
   "file_extension": ".py",
   "mimetype": "text/x-python",
   "name": "python",
   "nbconvert_exporter": "python",
   "pygments_lexer": "ipython3",
   "version": "3.5.5"
  }
 },
 "nbformat": 4,
 "nbformat_minor": 1
}
