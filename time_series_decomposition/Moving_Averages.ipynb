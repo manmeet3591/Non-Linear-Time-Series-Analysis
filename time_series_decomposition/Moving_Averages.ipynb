{
 "cells": [
  {
   "cell_type": "code",
   "execution_count": 1,
   "metadata": {},
   "outputs": [],
   "source": [
    "from __future__ import print_function\n",
    "import os\n",
    "import pandas as pd\n",
    "%matplotlib inline\n",
    "from matplotlib import pyplot as plt"
   ]
  },
  {
   "cell_type": "code",
   "execution_count": 2,
   "metadata": {},
   "outputs": [],
   "source": [
    "#Set current directory and work relative to it\n",
    "#os.chdir('D:/Practical Time Series/')"
   ]
  },
  {
   "cell_type": "code",
   "execution_count": 3,
   "metadata": {},
   "outputs": [],
   "source": [
    "#Load the dataset into a pandas.DataFrame\n",
    "ibm_df = pd.read_csv('../datasets/ibm-common-stock-closing-prices.csv')\n",
    "ibm_df.index = ibm_df['Date']"
   ]
  },
  {
   "cell_type": "code",
   "execution_count": 4,
   "metadata": {},
   "outputs": [
    {
     "name": "stdout",
     "output_type": "stream",
     "text": [
      "Shape of the dataframe: (1009, 2)\n"
     ]
    }
   ],
   "source": [
    "#Let's find out the shape of the DataFrame\n",
    "print('Shape of the dataframe:', ibm_df.shape)"
   ]
  },
  {
   "cell_type": "code",
   "execution_count": 5,
   "metadata": {},
   "outputs": [
    {
     "data": {
      "text/html": [
       "<div>\n",
       "<style scoped>\n",
       "    .dataframe tbody tr th:only-of-type {\n",
       "        vertical-align: middle;\n",
       "    }\n",
       "\n",
       "    .dataframe tbody tr th {\n",
       "        vertical-align: top;\n",
       "    }\n",
       "\n",
       "    .dataframe thead th {\n",
       "        text-align: right;\n",
       "    }\n",
       "</style>\n",
       "<table border=\"1\" class=\"dataframe\">\n",
       "  <thead>\n",
       "    <tr style=\"text-align: right;\">\n",
       "      <th></th>\n",
       "      <th>Date</th>\n",
       "      <th>IBM common stock closing prices</th>\n",
       "    </tr>\n",
       "    <tr>\n",
       "      <th>Date</th>\n",
       "      <th></th>\n",
       "      <th></th>\n",
       "    </tr>\n",
       "  </thead>\n",
       "  <tbody>\n",
       "    <tr>\n",
       "      <th>1962-01-02</th>\n",
       "      <td>1962-01-02</td>\n",
       "      <td>572.00</td>\n",
       "    </tr>\n",
       "    <tr>\n",
       "      <th>1962-01-03</th>\n",
       "      <td>1962-01-03</td>\n",
       "      <td>577.00</td>\n",
       "    </tr>\n",
       "    <tr>\n",
       "      <th>1962-01-04</th>\n",
       "      <td>1962-01-04</td>\n",
       "      <td>571.25</td>\n",
       "    </tr>\n",
       "    <tr>\n",
       "      <th>1962-01-05</th>\n",
       "      <td>1962-01-05</td>\n",
       "      <td>560.00</td>\n",
       "    </tr>\n",
       "    <tr>\n",
       "      <th>1962-01-08</th>\n",
       "      <td>1962-01-08</td>\n",
       "      <td>549.50</td>\n",
       "    </tr>\n",
       "    <tr>\n",
       "      <th>1962-01-09</th>\n",
       "      <td>1962-01-09</td>\n",
       "      <td>556.00</td>\n",
       "    </tr>\n",
       "    <tr>\n",
       "      <th>1962-01-10</th>\n",
       "      <td>1962-01-10</td>\n",
       "      <td>557.00</td>\n",
       "    </tr>\n",
       "    <tr>\n",
       "      <th>1962-01-11</th>\n",
       "      <td>1962-01-11</td>\n",
       "      <td>563.00</td>\n",
       "    </tr>\n",
       "    <tr>\n",
       "      <th>1962-01-12</th>\n",
       "      <td>1962-01-12</td>\n",
       "      <td>564.00</td>\n",
       "    </tr>\n",
       "    <tr>\n",
       "      <th>1962-01-15</th>\n",
       "      <td>1962-01-15</td>\n",
       "      <td>566.50</td>\n",
       "    </tr>\n",
       "  </tbody>\n",
       "</table>\n",
       "</div>"
      ],
      "text/plain": [
       "                  Date  IBM common stock closing prices\n",
       "Date                                                   \n",
       "1962-01-02  1962-01-02                           572.00\n",
       "1962-01-03  1962-01-03                           577.00\n",
       "1962-01-04  1962-01-04                           571.25\n",
       "1962-01-05  1962-01-05                           560.00\n",
       "1962-01-08  1962-01-08                           549.50\n",
       "1962-01-09  1962-01-09                           556.00\n",
       "1962-01-10  1962-01-10                           557.00\n",
       "1962-01-11  1962-01-11                           563.00\n",
       "1962-01-12  1962-01-12                           564.00\n",
       "1962-01-15  1962-01-15                           566.50"
      ]
     },
     "execution_count": 5,
     "metadata": {},
     "output_type": "execute_result"
    }
   ],
   "source": [
    "#Let's see the top 10 rows\n",
    "ibm_df.head(10)"
   ]
  },
  {
   "cell_type": "code",
   "execution_count": 6,
   "metadata": {},
   "outputs": [
    {
     "data": {
      "text/html": [
       "<div>\n",
       "<style scoped>\n",
       "    .dataframe tbody tr th:only-of-type {\n",
       "        vertical-align: middle;\n",
       "    }\n",
       "\n",
       "    .dataframe tbody tr th {\n",
       "        vertical-align: top;\n",
       "    }\n",
       "\n",
       "    .dataframe thead th {\n",
       "        text-align: right;\n",
       "    }\n",
       "</style>\n",
       "<table border=\"1\" class=\"dataframe\">\n",
       "  <thead>\n",
       "    <tr style=\"text-align: right;\">\n",
       "      <th></th>\n",
       "      <th>Date</th>\n",
       "      <th>Close_Price</th>\n",
       "    </tr>\n",
       "    <tr>\n",
       "      <th>Date</th>\n",
       "      <th></th>\n",
       "      <th></th>\n",
       "    </tr>\n",
       "  </thead>\n",
       "  <tbody>\n",
       "    <tr>\n",
       "      <th>1962-01-02</th>\n",
       "      <td>1962-01-02</td>\n",
       "      <td>572.00</td>\n",
       "    </tr>\n",
       "    <tr>\n",
       "      <th>1962-01-03</th>\n",
       "      <td>1962-01-03</td>\n",
       "      <td>577.00</td>\n",
       "    </tr>\n",
       "    <tr>\n",
       "      <th>1962-01-04</th>\n",
       "      <td>1962-01-04</td>\n",
       "      <td>571.25</td>\n",
       "    </tr>\n",
       "    <tr>\n",
       "      <th>1962-01-05</th>\n",
       "      <td>1962-01-05</td>\n",
       "      <td>560.00</td>\n",
       "    </tr>\n",
       "    <tr>\n",
       "      <th>1962-01-08</th>\n",
       "      <td>1962-01-08</td>\n",
       "      <td>549.50</td>\n",
       "    </tr>\n",
       "  </tbody>\n",
       "</table>\n",
       "</div>"
      ],
      "text/plain": [
       "                  Date  Close_Price\n",
       "Date                               \n",
       "1962-01-02  1962-01-02       572.00\n",
       "1962-01-03  1962-01-03       577.00\n",
       "1962-01-04  1962-01-04       571.25\n",
       "1962-01-05  1962-01-05       560.00\n",
       "1962-01-08  1962-01-08       549.50"
      ]
     },
     "execution_count": 6,
     "metadata": {},
     "output_type": "execute_result"
    }
   ],
   "source": [
    "#Rename the second column\n",
    "ibm_df.rename(columns={'IBM common stock closing prices': 'Close_Price'},\n",
    "              inplace=True)\n",
    "ibm_df.head()"
   ]
  },
  {
   "cell_type": "code",
   "execution_count": 7,
   "metadata": {},
   "outputs": [
    {
     "name": "stdout",
     "output_type": "stream",
     "text": [
      "No. of rows with missing values: 0\n"
     ]
    }
   ],
   "source": [
    "#remove missing values\n",
    "missing = (pd.isnull(ibm_df['Date'])) & (pd.isnull(ibm_df['Close_Price']))\n",
    "print('No. of rows with missing values:', missing.sum())\n",
    "ibm_df = ibm_df.loc[~missing, :]"
   ]
  },
  {
   "cell_type": "code",
   "execution_count": 8,
   "metadata": {},
   "outputs": [],
   "source": [
    "#To illustrate the idea of moving average we compute a weekly moving average taking\n",
    "#a window of 5 days instead of 7 days because trading happens only during the weekdays.\n",
    "ibm_df['5-Day Moving Avg'] = ibm_df['Close_Price'].rolling(5).mean()"
   ]
  },
  {
   "cell_type": "code",
   "execution_count": 10,
   "metadata": {},
   "outputs": [
    {
     "data": {
      "image/png": "[encoded data removed]",
      "text/plain": [
       "<Figure size 396x396 with 2 Axes>"
      ]
     },
     "metadata": {
      "needs_background": "light"
     },
     "output_type": "display_data"
    }
   ],
   "source": [
    "fig = plt.figure(figsize=(5.5, 5.5))\n",
    "ax = fig.add_subplot(2,1,1)\n",
    "ibm_df['Close_Price'].plot(ax=ax, color='b')\n",
    "ax.set_title('IBM Common Stock Close Prices during 1962-1965')\n",
    "ax = fig.add_subplot(2,1,2)\n",
    "ibm_df['5-Day Moving Avg'].plot(ax=ax, color='r')\n",
    "ax.set_title('5-day Moving Average')\n",
    "plt.tight_layout(pad=0.4, w_pad=0.5, h_pad=2.0)\n",
    "#plt.savefig('plots/ch2/B07887_02_14.png', format='png', dpi=300)"
   ]
  },
  {
   "cell_type": "code",
   "execution_count": 11,
   "metadata": {},
   "outputs": [],
   "source": [
    "#Calculate the moving averages using 'rolling' and 'mean' functions\n",
    "MA2 = ibm_df['Close_Price'].rolling(window=2).mean()\n",
    "TwoXMA2 = MA2.rolling(window=2).mean()\n",
    "\n",
    "MA4 = ibm_df['Close_Price'].rolling(window=4).mean()\n",
    "TwoXMA4 = MA4.rolling(window=2).mean()\n",
    "\n",
    "MA3 = ibm_df['Close_Price'].rolling(window=3).mean()\n",
    "ThreeXMA3 = MA3.rolling(window=3).mean()"
   ]
  },
  {
   "cell_type": "code",
   "execution_count": 12,
   "metadata": {},
   "outputs": [
    {
     "name": "stderr",
     "output_type": "stream",
     "text": [
      "/home/manmeet/anaconda3/envs/py35/lib/python3.5/site-packages/ipykernel_launcher.py:2: DeprecationWarning: \n",
      ".ix is deprecated. Please use\n",
      ".loc for label based indexing or\n",
      ".iloc for positional indexing\n",
      "\n",
      "See the documentation here:\n",
      "http://pandas.pydata.org/pandas-docs/stable/indexing.html#ix-indexer-is-deprecated\n",
      "  \n",
      "/home/manmeet/anaconda3/envs/py35/lib/python3.5/site-packages/ipykernel_launcher.py:3: DeprecationWarning: \n",
      ".ix is deprecated. Please use\n",
      ".loc for label based indexing or\n",
      ".iloc for positional indexing\n",
      "\n",
      "See the documentation here:\n",
      "http://pandas.pydata.org/pandas-docs/stable/indexing.html#ix-indexer-is-deprecated\n",
      "  This is separate from the ipykernel package so we can avoid doing imports until\n",
      "/home/manmeet/anaconda3/envs/py35/lib/python3.5/site-packages/ipykernel_launcher.py:5: DeprecationWarning: \n",
      ".ix is deprecated. Please use\n",
      ".loc for label based indexing or\n",
      ".iloc for positional indexing\n",
      "\n",
      "See the documentation here:\n",
      "http://pandas.pydata.org/pandas-docs/stable/indexing.html#ix-indexer-is-deprecated\n",
      "  \"\"\"\n",
      "/home/manmeet/anaconda3/envs/py35/lib/python3.5/site-packages/ipykernel_launcher.py:6: DeprecationWarning: \n",
      ".ix is deprecated. Please use\n",
      ".loc for label based indexing or\n",
      ".iloc for positional indexing\n",
      "\n",
      "See the documentation here:\n",
      "http://pandas.pydata.org/pandas-docs/stable/indexing.html#ix-indexer-is-deprecated\n",
      "  \n",
      "/home/manmeet/anaconda3/envs/py35/lib/python3.5/site-packages/ipykernel_launcher.py:8: DeprecationWarning: \n",
      ".ix is deprecated. Please use\n",
      ".loc for label based indexing or\n",
      ".iloc for positional indexing\n",
      "\n",
      "See the documentation here:\n",
      "http://pandas.pydata.org/pandas-docs/stable/indexing.html#ix-indexer-is-deprecated\n",
      "  \n",
      "/home/manmeet/anaconda3/envs/py35/lib/python3.5/site-packages/ipykernel_launcher.py:9: DeprecationWarning: \n",
      ".ix is deprecated. Please use\n",
      ".loc for label based indexing or\n",
      ".iloc for positional indexing\n",
      "\n",
      "See the documentation here:\n",
      "http://pandas.pydata.org/pandas-docs/stable/indexing.html#ix-indexer-is-deprecated\n",
      "  if __name__ == '__main__':\n"
     ]
    }
   ],
   "source": [
    "#Let's remove NaN from the above variables\n",
    "MA2 = MA2.ix[~pd.isnull(MA2)]\n",
    "TwoXMA2 = TwoXMA2.ix[~pd.isnull(TwoXMA2)]\n",
    "\n",
    "MA4 = MA4.ix[~pd.isnull(MA4)]\n",
    "TwoXMA4 = TwoXMA4.ix[~pd.isnull(TwoXMA4)]\n",
    "\n",
    "MA3 = MA3.ix[~pd.isnull(MA3)]\n",
    "ThreeXMA3 = TwoXMA4.ix[~pd.isnull(ThreeXMA3)]"
   ]
  },
  {
   "cell_type": "code",
   "execution_count": 13,
   "metadata": {},
   "outputs": [
    {
     "data": {
      "text/plain": [
       "Text(0.5, 1.0, '3 day MA & 3X 3day MA')"
      ]
     },
     "execution_count": 13,
     "metadata": {},
     "output_type": "execute_result"
    },
    {
     "data": {
      "image/png": "[encoded data removed]",
      "text/plain": [
       "<Figure size 396x396 with 3 Axes>"
      ]
     },
     "metadata": {
      "needs_background": "light"
     },
     "output_type": "display_data"
    }
   ],
   "source": [
    "f, axarr = plt.subplots(3, sharex=True)\n",
    "f.set_size_inches(5.5, 5.5)\n",
    "\n",
    "ibm_df['Close_Price'].iloc[:45].plot(color='b', linestyle = '-', ax=axarr[0])\n",
    "MA2.iloc[:45].plot(color='r', linestyle = '-', ax=axarr[0])\n",
    "TwoXMA2.iloc[:45].plot(color='r', linestyle = '--', ax=axarr[0])\n",
    "axarr[0].set_title('2 day MA & 2X2 day MA')\n",
    "\n",
    "ibm_df['Close_Price'].iloc[:45].plot(color='b', linestyle = '-', ax=axarr[1])\n",
    "MA4.iloc[:45].plot(color='g', linestyle = '-', ax=axarr[1])\n",
    "TwoXMA4.iloc[:45].plot(color='g', linestyle = '--', ax=axarr[1])\n",
    "axarr[1].set_title('4 day MA & 2X4 day MA')\n",
    "\n",
    "ibm_df['Close_Price'].iloc[:45].plot(color='b', linestyle = '-', ax=axarr[2])\n",
    "MA3.iloc[:45].plot(color='k', linestyle = '-', ax=axarr[2])\n",
    "ThreeXMA3.iloc[:45].plot(color='k', linestyle = '--', ax=axarr[2])\n",
    "axarr[2].set_title('3 day MA & 3X 3day MA')\n",
    "#plt.savefig('plots/ch2/B07887_02_15.png', format='png', dpi=300)"
   ]
  },
  {
   "cell_type": "code",
   "execution_count": null,
   "metadata": {},
   "outputs": [],
   "source": []
  }
 ],
 "metadata": {
  "anaconda-cloud": {},
  "kernelspec": {
   "display_name": "Python 3",
   "language": "python",
   "name": "python3"
  },
  "language_info": {
   "codemirror_mode": {
    "name": "ipython",
    "version": 3
   },
   "file_extension": ".py",
   "mimetype": "text/x-python",
   "name": "python",
   "nbconvert_exporter": "python",
   "pygments_lexer": "ipython3",
   "version": "3.5.5"
  }
 },
 "nbformat": 4,
 "nbformat_minor": 1
}
